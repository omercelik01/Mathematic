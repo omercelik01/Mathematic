{
  "nbformat": 4,
  "nbformat_minor": 0,
  "metadata": {
    "colab": {
      "provenance": [],
      "authorship_tag": "ABX9TyNy9QNTcWYJvcSizZu9Elz9",
      "include_colab_link": true
    },
    "kernelspec": {
      "name": "python3",
      "display_name": "Python 3"
    },
    "language_info": {
      "name": "python"
    }
  },
  "cells": [
    {
      "cell_type": "markdown",
      "metadata": {
        "id": "view-in-github",
        "colab_type": "text"
      },
      "source": [
        "<a href=\"https://colab.research.google.com/github/omercelik01/Mathematic/blob/main/week1_example.ipynb\" target=\"_parent\"><img src=\"https://colab.research.google.com/assets/colab-badge.svg\" alt=\"Open In Colab\"/></a>"
      ]
    },
    {
      "cell_type": "code",
      "execution_count": 2,
      "metadata": {
        "colab": {
          "base_uri": "https://localhost:8080/"
        },
        "id": "-2l2U9ZQiOwW",
        "outputId": "978f5636-4dad-4ec7-a10d-81a043b77787"
      },
      "outputs": [
        {
          "output_type": "stream",
          "name": "stdout",
          "text": [
            "n2 : 8.0\n"
          ]
        }
      ],
      "source": [
        "#put a zero for the unknown value\n",
        "\n",
        "n1 = 1\n",
        "d1 = 2\n",
        "n2 = 0\n",
        "d2 = 16\n",
        "\n",
        "if n2 == 0:\n",
        "  answer = d2*n1 /d1\n",
        "  print(\"n2 :\",answer)\n",
        "\n",
        "if d2 == 0:\n",
        "  answer = n2* d1 /n1\n",
        "  print(\"d2:\",answer)\n",
        ""
      ]
    }
  ]
}