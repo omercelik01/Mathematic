{
  "nbformat": 4,
  "nbformat_minor": 0,
  "metadata": {
    "colab": {
      "provenance": [],
      "authorship_tag": "ABX9TyMJApEZfjIT/w2KhJ5dPR2e",
      "include_colab_link": true
    },
    "kernelspec": {
      "name": "python3",
      "display_name": "Python 3"
    },
    "language_info": {
      "name": "python"
    }
  },
  "cells": [
    {
      "cell_type": "markdown",
      "metadata": {
        "id": "view-in-github",
        "colab_type": "text"
      },
      "source": [
        "<a href=\"https://colab.research.google.com/github/omercelik01/Mathematic/blob/main/week2_solveforx.ipynb\" target=\"_parent\"><img src=\"https://colab.research.google.com/assets/colab-badge.svg\" alt=\"Open In Colab\"/></a>"
      ]
    },
    {
      "cell_type": "code",
      "execution_count": 4,
      "metadata": {
        "colab": {
          "base_uri": "https://localhost:8080/"
        },
        "id": "A_hSbx8tl9UT",
        "outputId": "a9a19b51-dc6b-400f-ff40-565cb1075600"
      },
      "outputs": [
        {
          "output_type": "stream",
          "name": "stdout",
          "text": [
            "Enter equation :0 =2*x -9\n",
            "x [9/2]\n"
          ]
        }
      ],
      "source": [
        "import sympy\n",
        "from sympy import symbols\n",
        "from sympy.solvers import solve\n",
        "\n",
        "x = symbols('x')\n",
        "\n",
        "#Put the equation here\n",
        "\n",
        "eq = input(\"Enter equation :0 =\")\n",
        "\n",
        "print(\"x\" ,solve(eq,x))\n",
        "\n"
      ]
    },
    {
      "cell_type": "code",
      "source": [
        "import sympy\n",
        "from sympy import symbols\n",
        "from sympy.solvers import solve\n",
        "\n",
        "x = symbols('x')\n",
        "\n",
        "#eq = 3*x -6\n",
        "eq = input(\"Enter equation :0 =\")\n",
        "\n",
        "solution=solve(eq,x)\n",
        "\n",
        "for s in solution:\n",
        "  print(\"x = \",s)\n",
        "\n"
      ],
      "metadata": {
        "colab": {
          "base_uri": "https://localhost:8080/"
        },
        "id": "lUz1JsxKmw4A",
        "outputId": "5a9d1f95-b8de-439b-cc1a-f3c49aa2ccc6"
      },
      "execution_count": 9,
      "outputs": [
        {
          "output_type": "stream",
          "name": "stdout",
          "text": [
            "Enter equation :0 =(x-2)*(x+3)\n",
            "x =  -3\n",
            "x =  2\n"
          ]
        }
      ]
    },
    {
      "cell_type": "code",
      "source": [],
      "metadata": {
        "id": "52-GsukKsFbp"
      },
      "execution_count": null,
      "outputs": []
    }
  ]
}